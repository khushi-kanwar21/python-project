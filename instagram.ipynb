{
 "cells": [
  {
   "cell_type": "code",
   "execution_count": 1,
   "id": "87bc86cb-5ae1-4c70-bc9f-fa027b195f7b",
   "metadata": {},
   "outputs": [],
   "source": [
    "from instagrapi import Client"
   ]
  },
  {
   "cell_type": "code",
   "execution_count": 3,
   "id": "999d9eb7-95b0-4f0e-aba8-630b499e5f45",
   "metadata": {},
   "outputs": [
    {
     "data": {
      "text/plain": [
       "Media(pk=3672220212115328493, id='3672220212115328493_76092472925', code='DL2WNOgJM3t', taken_at=datetime.datetime(2025, 7, 8, 13, 53, 4, tzinfo=TzInfo(UTC)), media_type=1, image_versions2={'candidates': [{'estimated_scans_sizes': [1357, 2714, 4072, 5429, 6786, 8170, 235798, 12216, 12216], 'height': 200, 'scans_profile': 'e35', 'url': 'https://instagram.fjai2-5.fna.fbcdn.net/v/t51.2885-15/515971837_17842156302536926_2415302396147836846_n.jpg?stp=dst-jpg_e35_tt6&efg=eyJ2ZW5jb2RlX3RhZyI6IkZFRUQuaW1hZ2VfdXJsZ2VuLjM1NngyMDAuc2RyLmY4Mjc4Ny5kZWZhdWx0X2ltYWdlIn0&_nc_ht=instagram.fjai2-5.fna.fbcdn.net&_nc_cat=110&_nc_oc=Q6cZ2QGKlOkBGUAiNjppl1T5_nbhvadPMrG00JQOKSNqMaZuCpDSJgf-dKVxtnUFVho85iE&_nc_ohc=m6_AOS8ngvQQ7kNvwF3M0cE&_nc_gid=WYVXuuwZX1oS8x1Z5D7RZg&edm=ACqnv0EBAAAA&ccb=7-5&ig_cache_key=MzY3MjIyMDIxMjExNTMyODQ5Mw%3D%3D.3-ccb7-5&oh=00_AfSxESyvHFkITc2jLGTzZEDBmWe4MLMLIAVMd_GAU3kwVw&oe=6872EB80&_nc_sid=7698e5', 'width': 356}, {'estimated_scans_sizes': [1357, 2714, 4072, 5429, 6786, 8170, 235798, 12216, 12216], 'height': 200, 'scans_profile': 'e35', 'url': 'https://instagram.fjai2-5.fna.fbcdn.net/v/t51.2885-15/515971837_17842156302536926_2415302396147836846_n.jpg?stp=dst-jpg_e35_tt6&efg=eyJ2ZW5jb2RlX3RhZyI6IkZFRUQuaW1hZ2VfdXJsZ2VuLjM1NngyMDAuc2RyLmY4Mjc4Ny5kZWZhdWx0X2ltYWdlIn0&_nc_ht=instagram.fjai2-5.fna.fbcdn.net&_nc_cat=110&_nc_oc=Q6cZ2QGKlOkBGUAiNjppl1T5_nbhvadPMrG00JQOKSNqMaZuCpDSJgf-dKVxtnUFVho85iE&_nc_ohc=m6_AOS8ngvQQ7kNvwF3M0cE&_nc_gid=WYVXuuwZX1oS8x1Z5D7RZg&edm=ACqnv0EBAAAA&ccb=7-5&ig_cache_key=MzY3MjIyMDIxMjExNTMyODQ5Mw%3D%3D.3-ccb7-5&oh=00_AfSxESyvHFkITc2jLGTzZEDBmWe4MLMLIAVMd_GAU3kwVw&oe=6872EB80&_nc_sid=7698e5', 'width': 356}]}, product_type='feed', thumbnail_url=HttpUrl('https://instagram.fjai2-5.fna.fbcdn.net/v/t51.2885-15/515971837_17842156302536926_2415302396147836846_n.jpg?stp=dst-jpg_e35_tt6&efg=eyJ2ZW5jb2RlX3RhZyI6IkZFRUQuaW1hZ2VfdXJsZ2VuLjM1NngyMDAuc2RyLmY4Mjc4Ny5kZWZhdWx0X2ltYWdlIn0&_nc_ht=instagram.fjai2-5.fna.fbcdn.net&_nc_cat=110&_nc_oc=Q6cZ2QGKlOkBGUAiNjppl1T5_nbhvadPMrG00JQOKSNqMaZuCpDSJgf-dKVxtnUFVho85iE&_nc_ohc=m6_AOS8ngvQQ7kNvwF3M0cE&_nc_gid=WYVXuuwZX1oS8x1Z5D7RZg&edm=ACqnv0EBAAAA&ccb=7-5&ig_cache_key=MzY3MjIyMDIxMjExNTMyODQ5Mw%3D%3D.3-ccb7-5&oh=00_AfSxESyvHFkITc2jLGTzZEDBmWe4MLMLIAVMd_GAU3kwVw&oe=6872EB80&_nc_sid=7698e5'), location=None, user=UserShort(pk='76092472925', username='temp_account_lw', full_name='', profile_pic_url=HttpUrl('https://instagram.fbki1-2.fna.fbcdn.net/v/t51.2885-19/464760996_1254146839119862_3605321457742435801_n.png?stp=dst-jpg_e0_s150x150_tt6&cb=8577c754-c2464923&_nc_ad=z-m&_nc_ht=instagram.fbki1-2.fna.fbcdn.net&_nc_cat=1&_nc_oc=Q6cZ2QFwSF31MgqlR3oFRoPozUVwlHc-UlaiTIoLb0muuKCkUSHKNxGt7HdKZf509sXzfdYQCEtSQnDoh_fCDNQB96Rq&_nc_ohc=orG3FcByQ_0Q7kNvwE1f_dA&_nc_gid=Zhm7ZmBxH7c9u7ISRz-LzA&edm=AEVnrqQBAAAA&ccb=7-5&ig_cache_key=YW5vbnltb3VzX3Byb2ZpbGVfcGlj.3-ccb7-5-cb8577c754-c2464923&oh=00_AfRcHw-OprdX7Ltg1e1DgZHi5S-RfT7aRfhiM8Q2ZYQdTA&oe=6872EA28&_nc_sid=f8b7b3'), profile_pic_url_hd=None, is_private=False), comment_count=0, comments_disabled=False, commenting_disabled_for_viewer=False, like_count=0, play_count=0, has_liked=False, caption_text='Hello from Python! 🚀 #python #automation', accessibility_caption=None, usertags=[], sponsor_tags=[], video_url=None, view_count=0, video_duration=0.0, title='', resources=[], clips_metadata={})"
      ]
     },
     "execution_count": 3,
     "metadata": {},
     "output_type": "execute_result"
    }
   ],
   "source": [
    "cl = Client()\n",
    "\n",
    "cl.login(\"temp_account_lw\", \"dipseek\")\n",
    "\n",
    "cl.photo_upload(\"c.jpg\", \"Hello from Python! 🚀 #python #automation\")"
   ]
  },
  {
   "cell_type": "code",
   "execution_count": null,
   "id": "f86d341c-64d8-449e-aa6d-bc327d992133",
   "metadata": {},
   "outputs": [],
   "source": []
  }
 ],
 "metadata": {
  "kernelspec": {
   "display_name": "Python 3 (ipykernel)",
   "language": "python",
   "name": "python3"
  },
  "language_info": {
   "codemirror_mode": {
    "name": "ipython",
    "version": 3
   },
   "file_extension": ".py",
   "mimetype": "text/x-python",
   "name": "python",
   "nbconvert_exporter": "python",
   "pygments_lexer": "ipython3",
   "version": "3.11.7"
  }
 },
 "nbformat": 4,
 "nbformat_minor": 5
}
