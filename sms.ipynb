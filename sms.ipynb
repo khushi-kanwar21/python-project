{
 "cells": [
  {
   "cell_type": "code",
   "execution_count": 1,
   "id": "c933716c-8724-4b12-b3d9-f9f9b709aa0e",
   "metadata": {},
   "outputs": [],
   "source": [
    "from twilio.rest import Client\n"
   ]
  },
  {
   "cell_type": "code",
   "execution_count": 3,
   "id": "047a3f65-13e9-40cf-9b06-a28d59a313e0",
   "metadata": {},
   "outputs": [],
   "source": [
    "account_sid = ''\n",
    "auth_token = ''\n",
    "twilio_number = 'xxxxxxxxxxxx'  \n",
    "to_number = '+91xxxxxxxxxx'"
   ]
  },
  {
   "cell_type": "code",
   "execution_count": 5,
   "id": "ab246061-d437-4ee2-8293-eab59b14d6b9",
   "metadata": {},
   "outputs": [],
   "source": [
    "client = Client(account_sid, auth_token)\n"
   ]
  },
  {
   "cell_type": "code",
   "execution_count": 7,
   "id": "220e3778-df2f-4709-b84a-f8ca7f4e86af",
   "metadata": {},
   "outputs": [],
   "source": [
    "message = client.messages.create(\n",
    "    body=\"Hello from Python using Twilio!\",\n",
    "    from_=twilio_number,\n",
    "    to=to_number\n",
    ")\n"
   ]
  },
  {
   "cell_type": "code",
   "execution_count": 9,
   "id": "ba06b597-61c7-47f7-9f41-45706963728c",
   "metadata": {},
   "outputs": [
    {
     "name": "stdout",
     "output_type": "stream",
     "text": [
      "Message sent! SID: SMd5c972bc7fcaedea084c3efb4af0af43\n"
     ]
    }
   ],
   "source": [
    "print(\"Message sent! SID:\", message.sid)"
   ]
  },
  {
   "cell_type": "code",
   "execution_count": null,
   "id": "ef225603-578f-4b68-99be-37908daeb2b7",
   "metadata": {},
   "outputs": [],
   "source": []
  }
 ],
 "metadata": {
  "kernelspec": {
   "display_name": "Python 3 (ipykernel)",
   "language": "python",
   "name": "python3"
  },
  "language_info": {
   "codemirror_mode": {
    "name": "ipython",
    "version": 3
   },
   "file_extension": ".py",
   "mimetype": "text/x-python",
   "name": "python",
   "nbconvert_exporter": "python",
   "pygments_lexer": "ipython3",
   "version": "3.11.7"
  }
 },
 "nbformat": 4,
 "nbformat_minor": 5
}
