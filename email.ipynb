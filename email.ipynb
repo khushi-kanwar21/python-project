{
 "cells": [
  {
   "cell_type": "code",
   "execution_count": 9,
   "id": "67486b29-dfff-4d2c-80f7-bdbd46e180ef",
   "metadata": {},
   "outputs": [],
   "source": [
    "import smtplib\n",
    "from email.mime.text import MIMEText\n",
    "from email.mime.multipart import MIMEMultipart"
   ]
  },
  {
   "cell_type": "code",
   "execution_count": 3,
   "id": "6fb7e441-e0e9-434e-9c8c-e474735f65ea",
   "metadata": {},
   "outputs": [],
   "source": [
    "sender_email = \"sender_mail\"\n",
    "sender_password = \"your_secret-key\"  \n",
    "receiver_email = \"reciever_mail\""
   ]
  },
  {
   "cell_type": "code",
   "execution_count": 5,
   "id": "5f9bf2ae-b98e-4c54-9468-8dbe08d85a85",
   "metadata": {},
   "outputs": [],
   "source": [
    "subject = \"Test Email from Python\"\n",
    "body = \"Hello, this is a test email sent using Python!\""
   ]
  },
  {
   "cell_type": "code",
   "execution_count": 11,
   "id": "6e369bf0-dbb1-4178-874a-ab292452f831",
   "metadata": {},
   "outputs": [],
   "source": [
    "msg = MIMEMultipart()\n",
    "msg['From'] = sender_email\n",
    "msg['To'] = receiver_email\n",
    "msg['Subject'] = subject\n",
    "msg.attach(MIMEText(body, 'plain'))"
   ]
  },
  {
   "cell_type": "code",
   "execution_count": 13,
   "id": "9a1bbad3-8495-4355-a974-ee6946595752",
   "metadata": {},
   "outputs": [
    {
     "name": "stdout",
     "output_type": "stream",
     "text": [
      "✅ Email sent successfully!\n"
     ]
    }
   ],
   "source": [
    "try:\n",
    "    # Connect to Gmail's SMTP server\n",
    "    server = smtplib.SMTP('smtp.gmail.com', 587)\n",
    "    server.starttls()  # Secure the connection\n",
    "    server.login(sender_email, sender_password)  # Login\n",
    "    server.sendmail(sender_email, receiver_email, msg.as_string())  # Send email\n",
    "    server.quit()\n",
    "\n",
    "    print(\"✅ Email sent successfully!\")\n",
    "\n",
    "except Exception as e:\n",
    "    print(\"❌ Failed to send email:\", e)"
   ]
  },
  {
   "cell_type": "code",
   "execution_count": null,
   "id": "389d0210-4036-473e-b86a-d805c720c012",
   "metadata": {},
   "outputs": [],
   "source": []
  }
 ],
 "metadata": {
  "kernelspec": {
   "display_name": "Python (TensorFlow)",
   "language": "python",
   "name": "tfenv"
  },
  "language_info": {
   "codemirror_mode": {
    "name": "ipython",
    "version": 3
   },
   "file_extension": ".py",
   "mimetype": "text/x-python",
   "name": "python",
   "nbconvert_exporter": "python",
   "pygments_lexer": "ipython3",
   "version": "3.10.16"
  }
 },
 "nbformat": 4,
 "nbformat_minor": 5
}
