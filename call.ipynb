{
 "cells": [
  {
   "cell_type": "code",
   "execution_count": 1,
   "id": "244db16c-39ca-40d5-87f2-25d26e708f36",
   "metadata": {},
   "outputs": [],
   "source": [
    "from twilio.rest import Client"
   ]
  },
  {
   "cell_type": "code",
   "execution_count": 9,
   "id": "d048d9c1-b832-4f60-ac03-295d4515a2f2",
   "metadata": {},
   "outputs": [],
   "source": [
    "account_sid = ''\n",
    "auth_token = ''\n",
    "twilio_number = '+12222222222'  \n",
    "to_number = '+91xxxxxxxxxx'"
   ]
  },
  {
   "cell_type": "code",
   "execution_count": 11,
   "id": "17b5a8c7-7ce1-4286-b613-3014c23986a4",
   "metadata": {},
   "outputs": [],
   "source": [
    "client = Client(account_sid, auth_token)"
   ]
  },
  {
   "cell_type": "code",
   "execution_count": 17,
   "id": "6ad5e2fd-fa89-411f-a50b-69e5053bc977",
   "metadata": {},
   "outputs": [],
   "source": [
    "call = client.calls.create(\n",
    "    twiml='<Response><Say>Hello, Khushi this side!</Say></Response>',\n",
    "    from_=twilio_number,\n",
    "    to=to_number\n",
    ")"
   ]
  },
  {
   "cell_type": "code",
   "execution_count": 19,
   "id": "443bcec1-1ed2-4454-8203-72eb0c371749",
   "metadata": {},
   "outputs": [
    {
     "name": "stdout",
     "output_type": "stream",
     "text": [
      "Call initiated! SID: CA2d4b53ec41cfbf128fa2455da8315b6c\n"
     ]
    }
   ],
   "source": [
    "print(\"Call initiated! SID:\", call.sid)"
   ]
  },
  {
   "cell_type": "code",
   "execution_count": null,
   "id": "8226c51d-d22a-4d3d-ad16-a5f0368a36c9",
   "metadata": {},
   "outputs": [],
   "source": []
  }
 ],
 "metadata": {
  "kernelspec": {
   "display_name": "Python 3 (ipykernel)",
   "language": "python",
   "name": "python3"
  },
  "language_info": {
   "codemirror_mode": {
    "name": "ipython",
    "version": 3
   },
   "file_extension": ".py",
   "mimetype": "text/x-python",
   "name": "python",
   "nbconvert_exporter": "python",
   "pygments_lexer": "ipython3",
   "version": "3.11.7"
  }
 },
 "nbformat": 4,
 "nbformat_minor": 5
}
