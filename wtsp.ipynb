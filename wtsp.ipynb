{
 "cells": [
  {
   "cell_type": "code",
   "execution_count": 11,
   "id": "a481529f-0622-442c-be7e-6591ca47dce9",
   "metadata": {},
   "outputs": [],
   "source": [
    "import requests\n",
    "import pywhatkit"
   ]
  },
  {
   "cell_type": "code",
   "execution_count": 17,
   "id": "ff9b55eb-e54f-46bb-b478-c4d5f1415e5b",
   "metadata": {},
   "outputs": [],
   "source": [
    "\n",
    "pywhatkit.sendwhatmsg_instantly(\"+918290681180\", \"hello langda\", wait_time=10, tab_close=True)\n"
   ]
  },
  {
   "cell_type": "code",
   "execution_count": null,
   "id": "773b6327-b9fe-4eba-9df6-b5663f975f3c",
   "metadata": {},
   "outputs": [],
   "source": []
  }
 ],
 "metadata": {
  "kernelspec": {
   "display_name": "Python 3 (ipykernel)",
   "language": "python",
   "name": "python3"
  },
  "language_info": {
   "codemirror_mode": {
    "name": "ipython",
    "version": 3
   },
   "file_extension": ".py",
   "mimetype": "text/x-python",
   "name": "python",
   "nbconvert_exporter": "python",
   "pygments_lexer": "ipython3",
   "version": "3.11.7"
  }
 },
 "nbformat": 4,
 "nbformat_minor": 5
}
