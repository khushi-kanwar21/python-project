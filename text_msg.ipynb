{
 "cells": [
  {
   "cell_type": "code",
   "execution_count": 1,
   "id": "d45480eb-641c-4e2a-9ab8-a371065c655e",
   "metadata": {},
   "outputs": [],
   "source": [
    "from twilio.rest import Client"
   ]
  },
  {
   "cell_type": "code",
   "execution_count": 3,
   "id": "682006c1-d96a-4ee3-add2-301b5ab3d51f",
   "metadata": {},
   "outputs": [],
   "source": [
    "account_sid = ''\n",
    "auth_token = ''\n",
    "twilio_number = 'xxxxxxxxxxxx'  \n",
    "to_number = '+91xxxxxxxxxx'"
   ]
  },
  {
   "cell_type": "code",
   "execution_count": 5,
   "id": "5fdd6b15-6eea-4685-8db9-0438c220c8af",
   "metadata": {},
   "outputs": [],
   "source": [
    "client = Client(account_sid, auth_token)"
   ]
  },
  {
   "cell_type": "code",
   "execution_count": 7,
   "id": "3eb337f2-ed85-40e1-a0ae-c6bb2e55455f",
   "metadata": {},
   "outputs": [],
   "source": [
    "message = client.messages.create(\n",
    "    body=\"Hello! This is a test message from Python.\",\n",
    "    from_=twilio_number,\n",
    "    to=to_number\n",
    ")\n"
   ]
  },
  {
   "cell_type": "code",
   "execution_count": 9,
   "id": "f45ab476-842c-4552-bd08-efb3fca7d94e",
   "metadata": {},
   "outputs": [
    {
     "name": "stdout",
     "output_type": "stream",
     "text": [
      "Message sent! SID: SMe5dec04198a2aec60eb5c4cc628cb82d\n"
     ]
    }
   ],
   "source": [
    "print(f\"Message sent! SID: {message.sid}\")"
   ]
  },
  {
   "cell_type": "code",
   "execution_count": null,
   "id": "cb5e5911-fb7b-49f8-bdfc-63ad98489c39",
   "metadata": {},
   "outputs": [],
   "source": []
  }
 ],
 "metadata": {
  "kernelspec": {
   "display_name": "Python 3 (ipykernel)",
   "language": "python",
   "name": "python3"
  },
  "language_info": {
   "codemirror_mode": {
    "name": "ipython",
    "version": 3
   },
   "file_extension": ".py",
   "mimetype": "text/x-python",
   "name": "python",
   "nbconvert_exporter": "python",
   "pygments_lexer": "ipython3",
   "version": "3.11.7"
  }
 },
 "nbformat": 4,
 "nbformat_minor": 5
}
